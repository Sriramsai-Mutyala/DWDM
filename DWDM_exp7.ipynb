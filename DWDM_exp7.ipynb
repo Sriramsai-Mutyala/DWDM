{
  "nbformat": 4,
  "nbformat_minor": 0,
  "metadata": {
    "colab": {
      "provenance": [],
      "include_colab_link": true
    },
    "kernelspec": {
      "name": "python3",
      "display_name": "Python 3"
    },
    "language_info": {
      "name": "python"
    }
  },
  "cells": [
    {
      "cell_type": "markdown",
      "metadata": {
        "id": "view-in-github",
        "colab_type": "text"
      },
      "source": [
        "<a href=\"https://colab.research.google.com/github/Sriramsai-Mutyala/DWDM/blob/main/DWDM_exp7.ipynb\" target=\"_parent\"><img src=\"https://colab.research.google.com/assets/colab-badge.svg\" alt=\"Open In Colab\"/></a>"
      ]
    },
    {
      "cell_type": "code",
      "source": [
        "import pandas as pd\n",
        "from mlxtend.frequent_patterns import apriori, association_rules\n",
        "data = pd.read_csv('/content/archive (10).zip', header=None, compression='zip')\n",
        "onehot_data = pd.get_dummies(data)\n",
        "frequent_itemsets = apriori(onehot_data, min_support=0.05, use_colnames=True)\n",
        "association_rules = association_rules(frequent_itemsets, metric=\"lift\", min_threshold=1)\n",
        "print(\"Frequent Itemsets:\\n\", frequent_itemsets)\n",
        "print(\"Association Rules:\\n\", association_rules)"
      ],
      "metadata": {
        "colab": {
          "base_uri": "https://localhost:8080/"
        },
        "id": "sOUKIv0q1Lhk",
        "outputId": "0474e54e-5324-498d-f92b-5bf99d6a7efa"
      },
      "execution_count": null,
      "outputs": [
        {
          "output_type": "stream",
          "name": "stderr",
          "text": [
            "/usr/local/lib/python3.10/dist-packages/ipykernel/ipkernel.py:283: DeprecationWarning: `should_run_async` will not call `transform_cell` automatically in the future. Please pass the result to `transformed_cell` argument and any exception that happen during thetransform in `preprocessing_exc_tuple` in IPython 7.17 and above.\n",
            "  and should_run_async(code)\n",
            "/usr/local/lib/python3.10/dist-packages/mlxtend/frequent_patterns/fpcommon.py:110: DeprecationWarning: DataFrames with non-bool types result in worse computationalperformance and their support might be discontinued in the future.Please use a DataFrame with bool type\n",
            "  warnings.warn(\n"
          ]
        },
        {
          "output_type": "stream",
          "name": "stdout",
          "text": [
            "Frequent Itemsets:\n",
            "     support           itemsets\n",
            "0  0.076780        (0_burgers)\n",
            "1  0.052119      (0_chocolate)\n",
            "2  0.076913  (0_mineral water)\n",
            "3  0.061050         (0_turkey)\n",
            "4  0.064516  (1_mineral water)\n",
            "5  0.054785      (1_spaghetti)\n",
            "Association Rules:\n",
            " Empty DataFrame\n",
            "Columns: [antecedents, consequents, antecedent support, consequent support, support, confidence, lift, leverage, conviction, zhangs_metric]\n",
            "Index: []\n"
          ]
        }
      ]
    }
  ]
}